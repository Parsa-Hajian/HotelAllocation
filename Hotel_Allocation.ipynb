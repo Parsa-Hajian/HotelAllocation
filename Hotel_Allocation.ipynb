{
 "cells": [
  {
   "cell_type": "code",
   "execution_count": 3,
   "id": "4b4052c1-b272-41c2-8257-79a086a3e011",
   "metadata": {},
   "outputs": [],
   "source": [
    "import pandas as pd\n",
    "import numpy as np\n",
    "import allocation_functions as af\n",
    "\n",
    "#import datasets\n",
    "hotels = pd.read_excel(\"hotels.xlsx\")\n",
    "preferences = pd.read_excel(\"preferences.xlsx\")\n",
    "guests = pd.read_excel(\"guests.xlsx\")\n",
    "\n",
    "#drop first columns of all datasets\n",
    "hotels = hotels.drop(hotels.columns[0], axis=1)\n",
    "guests = guests.drop(guests.columns[0], axis=1)\n",
    "preferences = preferences.drop(preferences.columns[0], axis=1)\n",
    "\n",
    "# Dictionary to store the allocation DataFrames for each strategy\n",
    "strategy_allocations = {\n",
    "    \"Random\": af.random_allocation(hotels, guests, preferences),\n",
    "    \"Customer Preference\": af.preference_allocation(hotels, guests, preferences),\n",
    "    \"Price-Based\": af.price_allocation(hotels, guests, preferences),\n",
    "    \"Availability-Based\": af.availability_allocation(hotels, guests, preferences)\n",
    "}\n",
    "\n",
    "# Generate reports\n",
    "reports = {}\n",
    "for strategy, allocation_df in strategy_allocations.items():\n",
    "    reports[strategy] = af.calculate_metrics(allocation_df, hotels, preferences)\n",
    "\n",
    "# Convert to a DataFrame for easier presentation\n",
    "report_df = pd.DataFrame(reports).T #T : transpose"
   ]
  },
  {
   "cell_type": "code",
   "execution_count": 5,
   "id": "7716f2b9-41a9-48f0-9502-bd68899e7955",
   "metadata": {},
   "outputs": [
    {
     "data": {
      "text/html": [
       "<div>\n",
       "<style scoped>\n",
       "    .dataframe tbody tr th:only-of-type {\n",
       "        vertical-align: middle;\n",
       "    }\n",
       "\n",
       "    .dataframe tbody tr th {\n",
       "        vertical-align: top;\n",
       "    }\n",
       "\n",
       "    .dataframe thead th {\n",
       "        text-align: right;\n",
       "    }\n",
       "</style>\n",
       "<table border=\"1\" class=\"dataframe\">\n",
       "  <thead>\n",
       "    <tr style=\"text-align: right;\">\n",
       "      <th></th>\n",
       "      <th>Customers Accommodated</th>\n",
       "      <th>Rooms Occupied</th>\n",
       "      <th>Hotels Occupied</th>\n",
       "      <th>Total Revenue</th>\n",
       "      <th>Average Satisfaction</th>\n",
       "    </tr>\n",
       "  </thead>\n",
       "  <tbody>\n",
       "    <tr>\n",
       "      <th>Random</th>\n",
       "      <td>4000.0</td>\n",
       "      <td>-46383.0</td>\n",
       "      <td>400.0</td>\n",
       "      <td>643687.20</td>\n",
       "      <td>0.147078</td>\n",
       "    </tr>\n",
       "    <tr>\n",
       "      <th>Customer Preference</th>\n",
       "      <td>3975.0</td>\n",
       "      <td>-45918.0</td>\n",
       "      <td>400.0</td>\n",
       "      <td>643597.53</td>\n",
       "      <td>0.892507</td>\n",
       "    </tr>\n",
       "    <tr>\n",
       "      <th>Price-Based</th>\n",
       "      <td>4000.0</td>\n",
       "      <td>-41666.0</td>\n",
       "      <td>400.0</td>\n",
       "      <td>643525.05</td>\n",
       "      <td>1.000000</td>\n",
       "    </tr>\n",
       "    <tr>\n",
       "      <th>Availability-Based</th>\n",
       "      <td>4000.0</td>\n",
       "      <td>-41666.0</td>\n",
       "      <td>400.0</td>\n",
       "      <td>643525.05</td>\n",
       "      <td>1.000000</td>\n",
       "    </tr>\n",
       "  </tbody>\n",
       "</table>\n",
       "</div>"
      ],
      "text/plain": [
       "                     Customers Accommodated  Rooms Occupied  Hotels Occupied  \\\n",
       "Random                               4000.0        -46383.0            400.0   \n",
       "Customer Preference                  3975.0        -45918.0            400.0   \n",
       "Price-Based                          4000.0        -41666.0            400.0   \n",
       "Availability-Based                   4000.0        -41666.0            400.0   \n",
       "\n",
       "                     Total Revenue  Average Satisfaction  \n",
       "Random                   643687.20              0.147078  \n",
       "Customer Preference      643597.53              0.892507  \n",
       "Price-Based              643525.05              1.000000  \n",
       "Availability-Based       643525.05              1.000000  "
      ]
     },
     "execution_count": 5,
     "metadata": {},
     "output_type": "execute_result"
    }
   ],
   "source": [
    "report_df"
   ]
  },
  {
   "cell_type": "code",
   "execution_count": null,
   "id": "636e9b0c-9c9f-4d53-81d3-bfdc6a02253c",
   "metadata": {},
   "outputs": [],
   "source": []
  }
 ],
 "metadata": {
  "kernelspec": {
   "display_name": "Python 3 (ipykernel)",
   "language": "python",
   "name": "python3"
  },
  "language_info": {
   "codemirror_mode": {
    "name": "ipython",
    "version": 3
   },
   "file_extension": ".py",
   "mimetype": "text/x-python",
   "name": "python",
   "nbconvert_exporter": "python",
   "pygments_lexer": "ipython3",
   "version": "3.12.7"
  }
 },
 "nbformat": 4,
 "nbformat_minor": 5
}
